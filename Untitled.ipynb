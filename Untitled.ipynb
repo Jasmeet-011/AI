{
 "cells": [
  {
   "cell_type": "code",
   "execution_count": 4,
   "id": "6c16c878-8411-4bef-980c-3d24698540d1",
   "metadata": {},
   "outputs": [],
   "source": [
    "import pandas as pd"
   ]
  },
  {
   "cell_type": "code",
   "execution_count": 5,
   "id": "9bb5fda9-10b2-4200-a8a4-aa8bdd4b40f0",
   "metadata": {},
   "outputs": [
    {
     "name": "stdout",
     "output_type": "stream",
     "text": [
      "      name  score\n",
      "0    Alice     85\n",
      "1      Bob     92\n",
      "2  Charlie     78\n",
      "3    Diana     95\n"
     ]
    }
   ],
   "source": [
    "df = pd.read_csv(\"students.csv\")\n",
    "print(df)\n"
   ]
  },
  {
   "cell_type": "code",
   "execution_count": 7,
   "id": "af9f858b-a1e7-4b27-b0fc-e6a205f20110",
   "metadata": {},
   "outputs": [
    {
     "name": "stdout",
     "output_type": "stream",
     "text": [
      "Single column\n",
      "0      Alice\n",
      "1        Bob\n",
      "2    Charlie\n",
      "3      Diana\n",
      "Name: name, dtype: object\n",
      "Multiple columns\n",
      "      name  score\n",
      "0    Alice     85\n",
      "1      Bob     92\n",
      "2  Charlie     78\n",
      "3    Diana     95\n",
      "One row by index\n",
      "name     Alice\n",
      "score       85\n",
      "Name: 0, dtype: object\n",
      "score > 90\n",
      "    name  score\n",
      "1    Bob     92\n",
      "3  Diana     95\n"
     ]
    }
   ],
   "source": [
    "# Single column\n",
    "print(\"Single column\")\n",
    "print(df[\"name\"])\n",
    "\n",
    "# Multiple columns\n",
    "print(\"Multiple columns\")\n",
    "print(df[[\"name\", \"score\"]])\n",
    "\n",
    "# One row by index\n",
    "print(\"One row by index\")\n",
    "print(df.iloc[0])\n",
    "\n",
    "# Filter rows where score > 90\n",
    "print(\"score > 90\")\n",
    "print(df[df[\"score\"] > 90])\n"
   ]
  },
  {
   "cell_type": "code",
   "execution_count": 8,
   "id": "709b17dc-d53f-4de6-ac8c-b677f46ce0f9",
   "metadata": {},
   "outputs": [
    {
     "name": "stdout",
     "output_type": "stream",
     "text": [
      "      name  score  passed\n",
      "0    Alice     85    True\n",
      "1      Bob     92    True\n",
      "2  Charlie     78   False\n",
      "3    Diana     95    True\n"
     ]
    }
   ],
   "source": [
    "df[\"passed\"] = df[\"score\"] >= 80\n",
    "print(df)\n"
   ]
  },
  {
   "cell_type": "code",
   "execution_count": null,
   "id": "ad4a2b3e-32eb-4287-adfb-ff3341013800",
   "metadata": {},
   "outputs": [],
   "source": []
  }
 ],
 "metadata": {
  "kernelspec": {
   "display_name": "Python 3 (ipykernel)",
   "language": "python",
   "name": "python3"
  },
  "language_info": {
   "codemirror_mode": {
    "name": "ipython",
    "version": 3
   },
   "file_extension": ".py",
   "mimetype": "text/x-python",
   "name": "python",
   "nbconvert_exporter": "python",
   "pygments_lexer": "ipython3",
   "version": "3.12.4"
  }
 },
 "nbformat": 4,
 "nbformat_minor": 5
}
