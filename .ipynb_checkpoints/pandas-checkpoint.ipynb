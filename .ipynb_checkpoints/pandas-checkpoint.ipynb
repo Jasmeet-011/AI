{
 "cells": [
  {
   "cell_type": "code",
   "execution_count": 4,
   "id": "6c16c878-8411-4bef-980c-3d24698540d1",
   "metadata": {},
   "outputs": [],
   "source": [
    "import pandas as pd"
   ]
  },
  {
   "cell_type": "code",
   "execution_count": 5,
   "id": "9bb5fda9-10b2-4200-a8a4-aa8bdd4b40f0",
   "metadata": {},
   "outputs": [
    {
     "name": "stdout",
     "output_type": "stream",
     "text": [
      "      name  score\n",
      "0    Alice     85\n",
      "1      Bob     92\n",
      "2  Charlie     78\n",
      "3    Diana     95\n"
     ]
    }
   ],
   "source": [
    "df = pd.read_csv(\"students.csv\")\n",
    "print(df)\n"
   ]
  },
  {
   "cell_type": "code",
   "execution_count": 7,
   "id": "af9f858b-a1e7-4b27-b0fc-e6a205f20110",
   "metadata": {},
   "outputs": [
    {
     "name": "stdout",
     "output_type": "stream",
     "text": [
      "Single column\n",
      "0      Alice\n",
      "1        Bob\n",
      "2    Charlie\n",
      "3      Diana\n",
      "Name: name, dtype: object\n",
      "Multiple columns\n",
      "      name  score\n",
      "0    Alice     85\n",
      "1      Bob     92\n",
      "2  Charlie     78\n",
      "3    Diana     95\n",
      "One row by index\n",
      "name     Alice\n",
      "score       85\n",
      "Name: 0, dtype: object\n",
      "score > 90\n",
      "    name  score\n",
      "1    Bob     92\n",
      "3  Diana     95\n"
     ]
    }
   ],
   "source": [
    "# Single column\n",
    "print(\"Single column\")\n",
    "print(df[\"name\"])\n",
    "\n",
    "# Multiple columns\n",
    "print(\"Multiple columns\")\n",
    "print(df[[\"name\", \"score\"]])\n",
    "\n",
    "# One row by index\n",
    "print(\"One row by index\")\n",
    "print(df.iloc[0])\n",
    "\n",
    "# Filter rows where score > 90\n",
    "print(\"score > 90\")\n",
    "print(df[df[\"score\"] > 90])\n"
   ]
  },
  {
   "cell_type": "code",
   "execution_count": 8,
   "id": "709b17dc-d53f-4de6-ac8c-b677f46ce0f9",
   "metadata": {},
   "outputs": [
    {
     "name": "stdout",
     "output_type": "stream",
     "text": [
      "      name  score  passed\n",
      "0    Alice     85    True\n",
      "1      Bob     92    True\n",
      "2  Charlie     78   False\n",
      "3    Diana     95    True\n"
     ]
    }
   ],
   "source": [
    "df[\"passed\"] = df[\"score\"] >= 80\n",
    "print(df)\n"
   ]
  },
  {
   "cell_type": "code",
   "execution_count": 4,
   "id": "ad4a2b3e-32eb-4287-adfb-ff3341013800",
   "metadata": {},
   "outputs": [
    {
     "name": "stdout",
     "output_type": "stream",
     "text": [
      "name     Alice\n",
      "score       85\n",
      "age         20\n",
      "Name: 0, dtype: object\n",
      "Alice\n",
      "    name  score  age\n",
      "1    Bob     92   21\n",
      "3  Diana     95   20\n",
      "age\n",
      "19    78.0\n",
      "20    90.0\n",
      "21    92.0\n",
      "Name: score, dtype: float64\n",
      "      name  score  age     city\n",
      "0    Alice     85   20       NY\n",
      "1      Bob     92   21       LA\n",
      "2  Charlie     78   19       SF\n",
      "3    Diana     95   20  Chicago\n"
     ]
    }
   ],
   "source": [
    "import pandas as pd\n",
    "\n",
    "df = pd.DataFrame({\n",
    "    \"name\": [\"Alice\", \"Bob\", \"Charlie\", \"Diana\"],\n",
    "    \"score\": [85, 92, 78, 95],\n",
    "    \"age\": [20, 21, 19, 20]\n",
    "})\n",
    "\n",
    "print(df.iloc[0])            # first row\n",
    "print(df.loc[0, \"name\"])     # single cell\n",
    "print(df[df[\"score\"] > 90])  # filter rows\n",
    "\n",
    "print(df.groupby(\"age\")[\"score\"].mean())# first group them by their age and then take their mean\n",
    "\n",
    "df2 = pd.DataFrame({\n",
    "    \"name\": [\"Alice\", \"Bob\", \"Charlie\", \"Diana\"],\n",
    "    \"city\": [\"NY\", \"LA\", \"SF\", \"Chicago\"]\n",
    "})\n",
    "\n",
    "merged = pd.merge(df, df2, on=\"name\")\n",
    "print(merged)\n",
    "\n"
   ]
  },
  {
   "cell_type": "code",
   "execution_count": 8,
   "id": "5b4dc6c6-566c-41b3-9fda-34d97edaadcc",
   "metadata": {},
   "outputs": [
    {
     "name": "stdout",
     "output_type": "stream",
     "text": [
      "      name  score  age\n",
      "0    Alice     85   20\n",
      "1      Bob     92   21\n",
      "2  Charlie     78   19\n",
      "3    Diana     95   22\n",
      "4     Evan     88   21\n",
      "Average score: 87.6\n",
      "    name  score  age\n",
      "1    Bob     92   21\n",
      "3  Diana     95   22\n",
      "4   Evan     88   21\n",
      "      name  score  age grade\n",
      "0    Alice     85   20     B\n",
      "1      Bob     92   21     A\n",
      "2  Charlie     78   19     C\n",
      "3    Diana     95   22     A\n",
      "4     Evan     88   21     B\n"
     ]
    }
   ],
   "source": [
    "import pandas as pd\n",
    "\n",
    "df3 = pd.read_csv(\"students.csv\")\n",
    "\n",
    "# 1. Show all students\n",
    "print(df3)\n",
    "\n",
    "# 2. Average score\n",
    "print(\"Average score:\", df3[\"score\"].mean())\n",
    "\n",
    "# 3. Students older than 20\n",
    "print(df3[df3[\"age\"] > 20])\n",
    "\n",
    "# 4. Add grade column\n",
    "def assign_grade(score):\n",
    "    if score >= 90:\n",
    "        return \"A\"\n",
    "    elif score >= 80:\n",
    "        return \"B\"\n",
    "    else:\n",
    "        return \"C\"\n",
    "\n",
    "df3[\"grade\"] = df3[\"score\"].apply(assign_grade)\n",
    "print(df3)\n",
    "\n",
    "# 5. Save results\n",
    "df3.to_csv(\"students_with_grades.csv\", index=False)\n"
   ]
  },
  {
   "cell_type": "code",
   "execution_count": 11,
   "id": "e6f37326-c579-435b-9549-d40f01eedfe6",
   "metadata": {},
   "outputs": [
    {
     "name": "stdout",
     "output_type": "stream",
     "text": [
      "   product  price  quantity\n",
      "0   Laptop    100         4\n",
      "1    Phone    500        10\n",
      "2   Tablet    300         6\n",
      "3  Monitor    200         8\n",
      "4    Mouse     50        25\n"
     ]
    }
   ],
   "source": [
    "df1=pd.DataFrame({\n",
    "    \"product\": [\"Laptop\", \"Phone\", \"Tablet\", \"Monitor\",\"Mouse\"],\n",
    "    \"price\": [100, 500, 300, 200, 50],\n",
    "    \"quantity\": [4, 10, 6, 8,25]\n",
    "})\n",
    "df1.to_csv(\"sales.csv\", index=False)\n",
    "print(df1)"
   ]
  },
  {
   "cell_type": "code",
   "execution_count": 16,
   "id": "ca247fed-e3e9-4a1e-b32d-45ce04989bd9",
   "metadata": {},
   "outputs": [
    {
     "name": "stdout",
     "output_type": "stream",
     "text": [
      "   product  price  quantity  revenue\n",
      "0   Laptop    100         4      400\n",
      "1    Phone    500        10     5000\n",
      "2   Tablet    300         6     1800\n",
      "3  Monitor    200         8     1600\n",
      "4    Mouse     50        25     1250\n"
     ]
    }
   ],
   "source": [
    "df1[\"revenue\"]=df1[\"price\"]*df1[\"quantity\"]\n",
    "print(df1)"
   ]
  },
  {
   "cell_type": "code",
   "execution_count": 19,
   "id": "cbdb19ba-9b83-4994-8796-6d4164abb673",
   "metadata": {},
   "outputs": [
    {
     "name": "stdout",
     "output_type": "stream",
     "text": [
      "  product  price  quantity  revenue\n",
      "1   Phone    500        10     5000\n"
     ]
    }
   ],
   "source": [
    "print(df1[df1[\"price\"]>300])"
   ]
  },
  {
   "cell_type": "code",
   "execution_count": 25,
   "id": "579e09c8-135d-4d68-ad2c-c662e19f2cf3",
   "metadata": {},
   "outputs": [
    {
     "name": "stdout",
     "output_type": "stream",
     "text": [
      "   product  price  quantity  revenue\n",
      "4    Mouse     50        25     1250\n",
      "1    Phone    500        10     5000\n",
      "3  Monitor    200         8     1600\n",
      "2   Tablet    300         6     1800\n",
      "0   Laptop    100         4      400\n"
     ]
    }
   ],
   "source": [
    "df_sort=df1.sort_values(by=\"quantity\", ascending=False)\n",
    "print(df_sort)"
   ]
  },
  {
   "cell_type": "code",
   "execution_count": 26,
   "id": "ecf73064-4540-48cd-9b67-d82f0c327542",
   "metadata": {},
   "outputs": [],
   "source": [
    "df_sort.to_csv(\"Sales_updated.csv\", index=False)"
   ]
  },
  {
   "cell_type": "code",
   "execution_count": null,
   "id": "fc35e381-c894-4fbd-a82f-a92d549463a4",
   "metadata": {},
   "outputs": [],
   "source": []
  }
 ],
 "metadata": {
  "kernelspec": {
   "display_name": "Python 3 (ipykernel)",
   "language": "python",
   "name": "python3"
  },
  "language_info": {
   "codemirror_mode": {
    "name": "ipython",
    "version": 3
   },
   "file_extension": ".py",
   "mimetype": "text/x-python",
   "name": "python",
   "nbconvert_exporter": "python",
   "pygments_lexer": "ipython3",
   "version": "3.12.4"
  }
 },
 "nbformat": 4,
 "nbformat_minor": 5
}
