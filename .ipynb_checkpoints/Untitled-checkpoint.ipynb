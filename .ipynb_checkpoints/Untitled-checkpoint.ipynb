{
 "cells": [
  {
   "cell_type": "code",
   "execution_count": 2,
   "id": "3a337637-15fd-4db8-980f-deb01ce09dd2",
   "metadata": {},
   "outputs": [
    {
     "name": "stdout",
     "output_type": "stream",
     "text": [
      "[1 2 3]\n",
      "[[1 2]\n",
      " [3 4]]\n",
      "[[0. 0. 0.]\n",
      " [0. 0. 0.]]\n",
      "[[0.13616913 0.70650773 0.11965514]\n",
      " [0.88914098 0.32589474 0.58107293]\n",
      " [0.78440175 0.69059543 0.58334215]]\n"
     ]
    }
   ],
   "source": [
    "import numpy as np\n",
    "\n",
    "# Create an array\n",
    "arr = np.array([1, 2, 3])\n",
    "print(arr)\n",
    "\n",
    "# Create a 2D array (matrix)\n",
    "matrix = np.array([[1, 2], [3, 4]])\n",
    "print(matrix)\n",
    "\n",
    "# Array of zeros\n",
    "#2 rows 3 columns\n",
    "zeros = np.zeros((2, 3))\n",
    "print(zeros)\n",
    "\n",
    "# Array of random numbers\n",
    "# 3 rows 3 columns\n",
    "rand = np.random.rand(3, 3)\n",
    "print(rand)\n"
   ]
  },
  {
   "cell_type": "code",
   "execution_count": 4,
   "id": "b428c578-9456-49dc-ac55-781830ae083e",
   "metadata": {},
   "outputs": [
    {
     "name": "stdout",
     "output_type": "stream",
     "text": [
      "[5 7 9]\n",
      "[ 4 10 18]\n",
      "32\n"
     ]
    }
   ],
   "source": [
    "a = np.array([1, 2, 3])\n",
    "b = np.array([4, 5, 6])\n",
    "\n",
    "print(a + b)      # element-wise add\n",
    "print(a * b)      # element-wise multiply\n",
    "# If a and b are two vectors:\n",
    "# a = (a1, a2, a3)\n",
    "# b = (b1, b2, b3)\n",
    "# Then the dot product a · b is:\n",
    "# a · b = a1 * b1 + a2 * b2 + a3 * b3. \n",
    "print(a.dot(b))   # dot product\n"
   ]
  },
  {
   "cell_type": "code",
   "execution_count": 11,
   "id": "001ba599-b99a-41e6-95d9-df7ca210bbec",
   "metadata": {},
   "outputs": [
    {
     "name": "stdout",
     "output_type": "stream",
     "text": [
      "[[4 4 5]\n",
      " [7 4 7]\n",
      " [3 4 1]]\n",
      "39\n",
      "4.333333333333333\n",
      "7\n",
      "(1, 0)\n"
     ]
    }
   ],
   "source": [
    "scores=np.random.randint(1,11,(3,3))\n",
    "print(scores)\n",
    "maxi=-1\n",
    "index=(-1,-1)\n",
    "sum=0\n",
    "for row_ind,r in enumerate(scores):# will have rows of the multidimensional array\n",
    "    for col_ind,c in enumerate(r):# will iterate through elements in each row\n",
    "        sum+=c;\n",
    "        if (c>maxi):\n",
    "            maxi=c\n",
    "            index=(row_ind,col_ind)\n",
    "mean=sum/scores.size\n",
    "print(sum)\n",
    "print(mean)\n",
    "print(maxi)\n",
    "print(index)"
   ]
  },
  {
   "cell_type": "code",
   "execution_count": 12,
   "id": "cd14491d-f11a-496f-a0c2-a42371a5e167",
   "metadata": {},
   "outputs": [
    {
     "name": "stdout",
     "output_type": "stream",
     "text": [
      "[[9 4 9]\n",
      " [4 6 7]\n",
      " [9 6 2]]\n",
      "Sum: 56\n",
      "Mean: 6.222222222222222\n",
      "Max value: 9 at position (np.int64(0), np.int64(0))\n"
     ]
    }
   ],
   "source": [
    "import numpy as np\n",
    "\n",
    "scores = np.random.randint(1, 11, (3, 3))\n",
    "print(scores)\n",
    "\n",
    "total_sum = scores.sum()\n",
    "mean = scores.mean()\n",
    "max_val = scores.max()\n",
    "max_pos = np.unravel_index(np.argmax(scores), scores.shape)\n",
    "\n",
    "print(\"Sum:\", total_sum)\n",
    "print(\"Mean:\", mean)\n",
    "print(\"Max value:\", max_val, \"at position\", max_pos)\n"
   ]
  },
  {
   "cell_type": "code",
   "execution_count": 19,
   "id": "71d24883-b3ef-4cfd-b920-f1d82d75bea4",
   "metadata": {
    "scrolled": true
   },
   "outputs": [
    {
     "data": {
      "text/plain": [
       "array([10, 11, 12, 13, 14, 15, 16, 17, 18, 19, 20, 21, 22, 23, 24, 25, 26,\n",
       "       27, 28, 29, 30, 31, 32, 33, 34, 35, 36, 37, 38, 39, 40, 41, 42, 43,\n",
       "       44, 45, 46, 47, 48, 49, 50])"
      ]
     },
     "execution_count": 19,
     "metadata": {},
     "output_type": "execute_result"
    }
   ],
   "source": [
    "np.arange(10,51)\n",
    "# arr1=np.array([1,2])\n",
    "# print (arr1)"
   ]
  },
  {
   "cell_type": "code",
   "execution_count": 25,
   "id": "2fc54c00-9ed5-4b10-aa21-cceb00058a30",
   "metadata": {},
   "outputs": [
    {
     "name": "stdout",
     "output_type": "stream",
     "text": [
      "[[27  9 68 64]\n",
      " [31 71 96 63]\n",
      " [84 98 99 73]\n",
      " [27 59 36 59]]\n",
      "99\n",
      "(np.int64(2), np.int64(2))\n"
     ]
    }
   ],
   "source": [
    "arr2=np.random.randint(1,101,(4,4))\n",
    "print (arr2)\n",
    "maxi=arr2.max()\n",
    "max_position = np.unravel_index(np.argmax(arr2), arr2.shape)\n",
    "print (maxi)\n",
    "print(max_position)"
   ]
  },
  {
   "cell_type": "code",
   "execution_count": 26,
   "id": "7ada179e-8ebf-4665-adff-f270ebcd1d0e",
   "metadata": {},
   "outputs": [
    {
     "name": "stdout",
     "output_type": "stream",
     "text": [
      "[10 20 30 40]\n"
     ]
    }
   ],
   "source": [
    "arr3=np.array([2,4,6,8])\n",
    "print(arr3*5)"
   ]
  },
  {
   "cell_type": "code",
   "execution_count": 28,
   "id": "1d747fdc-718d-44b4-ae8d-a355ecd153a9",
   "metadata": {},
   "outputs": [
    {
     "name": "stdout",
     "output_type": "stream",
     "text": [
      "[[1 0 0]\n",
      " [0 1 0]\n",
      " [0 0 1]]\n"
     ]
    }
   ],
   "source": [
    "arr4=np.array([[1,0,0],[0,1,0],[0,0,1]])\n",
    "print (arr4)"
   ]
  },
  {
   "cell_type": "code",
   "execution_count": 34,
   "id": "08a62dc0-7c37-433c-9e67-ec8d6b6fcfbf",
   "metadata": {},
   "outputs": [
    {
     "name": "stdout",
     "output_type": "stream",
     "text": [
      "[0.03522284 0.99328433 0.16700046 0.53575774 0.50479467]\n",
      "[0.03522284 0.16700046 0.50479467 0.53575774 0.99328433]\n"
     ]
    }
   ],
   "source": [
    "arr5=np.random.rand(5)\n",
    "print(arr5)\n",
    "arr5.sort()\n",
    "print (arr5)"
   ]
  },
  {
   "cell_type": "code",
   "execution_count": 36,
   "id": "b8aa5d05-d47d-4894-bfc7-644efec0a0ca",
   "metadata": {},
   "outputs": [
    {
     "name": "stdout",
     "output_type": "stream",
     "text": [
      "[[1. 0. 0.]\n",
      " [0. 1. 0.]\n",
      " [0. 0. 1.]]\n"
     ]
    }
   ],
   "source": [
    "arr6=np.eye(3)\n",
    "print(arr6)"
   ]
  },
  {
   "cell_type": "code",
   "execution_count": null,
   "id": "93151063-0f9a-478a-8830-ae135c026aeb",
   "metadata": {},
   "outputs": [],
   "source": []
  }
 ],
 "metadata": {
  "kernelspec": {
   "display_name": "Python 3 (ipykernel)",
   "language": "python",
   "name": "python3"
  },
  "language_info": {
   "codemirror_mode": {
    "name": "ipython",
    "version": 3
   },
   "file_extension": ".py",
   "mimetype": "text/x-python",
   "name": "python",
   "nbconvert_exporter": "python",
   "pygments_lexer": "ipython3",
   "version": "3.12.4"
  }
 },
 "nbformat": 4,
 "nbformat_minor": 5
}
